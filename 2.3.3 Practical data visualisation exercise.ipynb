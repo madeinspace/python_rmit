{
 "cells": [
  {
   "cell_type": "markdown",
   "metadata": {
    "toc": true
   },
   "source": [
    "<h1>Table of Contents<span class=\"tocSkip\"></span></h1>\n",
    "<div class=\"toc\"><ul class=\"toc-item\"><li><span><a href=\"#Load-packages-and-iris-dataset\" data-toc-modified-id=\"Load-packages-and-iris-dataset-1\"><span class=\"toc-item-num\">1&nbsp;&nbsp;</span>Load packages and iris dataset</a></span></li><li><span><a href=\"#Check-the-number-of-female/male-passengers\" data-toc-modified-id=\"Check-the-number-of-female/male-passengers-2\"><span class=\"toc-item-num\">2&nbsp;&nbsp;</span>Check the number of female/male passengers</a></span></li><li><span><a href=\"#Create-two-masks-for-female-and-male\" data-toc-modified-id=\"Create-two-masks-for-female-and-male-3\"><span class=\"toc-item-num\">3&nbsp;&nbsp;</span>Create two masks for female and male</a></span></li><li><span><a href=\"#Calculate-the-survival-rates-for-female-and-male\" data-toc-modified-id=\"Calculate-the-survival-rates-for-female-and-male-4\"><span class=\"toc-item-num\">4&nbsp;&nbsp;</span>Calculate the survival rates for female and male</a></span></li><li><span><a href=\"#plot-the-survival-rates-as-bar-grpah\" data-toc-modified-id=\"plot-the-survival-rates-as-bar-grpah-5\"><span class=\"toc-item-num\">5&nbsp;&nbsp;</span>plot the survival rates as bar grpah</a></span></li></ul></div>"
   ]
  },
  {
   "cell_type": "markdown",
   "metadata": {},
   "source": [
    "# Titanic Survival rates by Sex"
   ]
  },
  {
   "cell_type": "markdown",
   "metadata": {},
   "source": [
    "## Load packages and iris dataset"
   ]
  },
  {
   "cell_type": "code",
   "execution_count": null,
   "metadata": {},
   "outputs": [],
   "source": [
    "import pandas as pd\n",
    "import matplotlib.pyplot as plt\n",
    "titanic = pd.read_csv('titanic.csv', sep=',', decimal='.', index_col=0)"
   ]
  },
  {
   "cell_type": "markdown",
   "metadata": {},
   "source": [
    "## Check the number of female/male passengers"
   ]
  },
  {
   "cell_type": "code",
   "execution_count": null,
   "metadata": {},
   "outputs": [],
   "source": [
    "sex_counts = titanic.dropna()['Sex'].value_counts()"
   ]
  },
  {
   "cell_type": "code",
   "execution_count": null,
   "metadata": {},
   "outputs": [],
   "source": [
    "sex_counts"
   ]
  },
  {
   "cell_type": "markdown",
   "metadata": {},
   "source": [
    "## Create two masks for female and male"
   ]
  },
  {
   "cell_type": "code",
   "execution_count": null,
   "metadata": {},
   "outputs": [],
   "source": [
    "mask_sex_f = titanic['Sex'] == 'female'\n",
    "mask_sex_m = titanic['Sex'] == 'male'"
   ]
  },
  {
   "cell_type": "code",
   "execution_count": null,
   "metadata": {},
   "outputs": [],
   "source": [
    "f_survive = titanic.dropna().loc[mask_sex_f, 'Survived'].value_counts()"
   ]
  },
  {
   "cell_type": "code",
   "execution_count": null,
   "metadata": {},
   "outputs": [],
   "source": [
    "f_survive"
   ]
  },
  {
   "cell_type": "code",
   "execution_count": null,
   "metadata": {},
   "outputs": [],
   "source": [
    "m_survive = titanic.dropna().loc[mask_sex_m, 'Survived'].value_counts()"
   ]
  },
  {
   "cell_type": "code",
   "execution_count": null,
   "metadata": {},
   "outputs": [],
   "source": [
    "m_survive"
   ]
  },
  {
   "cell_type": "markdown",
   "metadata": {},
   "source": [
    "## Calculate the survival rates for female and male"
   ]
  },
  {
   "cell_type": "code",
   "execution_count": null,
   "metadata": {},
   "outputs": [],
   "source": [
    "rate = [f_survive[1]/float(sex_counts['female']), m_survive[1]/float(sex_counts['male'])]"
   ]
  },
  {
   "cell_type": "markdown",
   "metadata": {},
   "source": [
    "## plot the survival rates as bar grpah"
   ]
  },
  {
   "cell_type": "code",
   "execution_count": null,
   "metadata": {},
   "outputs": [],
   "source": [
    "plt.bar(list(range(2)), rate, color='b', align='center')\n",
    "plt.xticks(list(range(2)), ['female', 'male'])\n",
    "plt.xlabel('Sex')\n",
    "plt.ylabel(\"Proportion Survived\")\n",
    "plt.title('Titanic Survival Rates by Sex')\n",
    "plt.show()"
   ]
  }
 ],
 "metadata": {
  "kernelspec": {
   "display_name": "Python 3",
   "language": "python",
   "name": "python3"
  },
  "language_info": {
   "codemirror_mode": {
    "name": "ipython",
    "version": 3
   },
   "file_extension": ".py",
   "mimetype": "text/x-python",
   "name": "python",
   "nbconvert_exporter": "python",
   "pygments_lexer": "ipython3",
   "version": "3.7.6"
  },
  "toc": {
   "base_numbering": 1,
   "nav_menu": {},
   "number_sections": true,
   "sideBar": true,
   "skip_h1_title": true,
   "title_cell": "Table of Contents",
   "title_sidebar": "Contents",
   "toc_cell": true,
   "toc_position": {},
   "toc_section_display": true,
   "toc_window_display": true
  }
 },
 "nbformat": 4,
 "nbformat_minor": 4
}
