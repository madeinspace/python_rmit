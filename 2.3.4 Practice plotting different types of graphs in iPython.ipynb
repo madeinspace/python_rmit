{
 "cells": [
  {
   "cell_type": "markdown",
   "metadata": {
    "toc": true
   },
   "source": [
    "<h1>Table of Contents<span class=\"tocSkip\"></span></h1>\n",
    "<div class=\"toc\"><ul class=\"toc-item\"><li><span><a href=\"#Introduction\" data-toc-modified-id=\"Introduction-1\"><span class=\"toc-item-num\">1&nbsp;&nbsp;</span>Introduction</a></span></li><li><span><a href=\"#Load-the-dataset-and-libraries\" data-toc-modified-id=\"Load-the-dataset-and-libraries-2\"><span class=\"toc-item-num\">2&nbsp;&nbsp;</span>Load the dataset and libraries</a></span></li><li><span><a href=\"#Your-turn\" data-toc-modified-id=\"Your-turn-3\"><span class=\"toc-item-num\">3&nbsp;&nbsp;</span>Your turn</a></span><ul class=\"toc-item\"><li><span><a href=\"#Pie-chart\" data-toc-modified-id=\"Pie-chart-3.1\"><span class=\"toc-item-num\">3.1&nbsp;&nbsp;</span>Pie chart</a></span></li><li><span><a href=\"#Histogram\" data-toc-modified-id=\"Histogram-3.2\"><span class=\"toc-item-num\">3.2&nbsp;&nbsp;</span>Histogram</a></span></li><li><span><a href=\"#Density\" data-toc-modified-id=\"Density-3.3\"><span class=\"toc-item-num\">3.3&nbsp;&nbsp;</span>Density</a></span></li><li><span><a href=\"#Boxplot\" data-toc-modified-id=\"Boxplot-3.4\"><span class=\"toc-item-num\">3.4&nbsp;&nbsp;</span>Boxplot</a></span></li><li><span><a href=\"#Scatterplot\" data-toc-modified-id=\"Scatterplot-3.5\"><span class=\"toc-item-num\">3.5&nbsp;&nbsp;</span>Scatterplot</a></span></li><li><span><a href=\"#Scatter-matrix\" data-toc-modified-id=\"Scatter-matrix-3.6\"><span class=\"toc-item-num\">3.6&nbsp;&nbsp;</span>Scatter matrix</a></span></li></ul></li><li><span><a href=\"#Solution\" data-toc-modified-id=\"Solution-4\"><span class=\"toc-item-num\">4&nbsp;&nbsp;</span>Solution</a></span><ul class=\"toc-item\"><li><span><a href=\"#Pie-chart\" data-toc-modified-id=\"Pie-chart-4.1\"><span class=\"toc-item-num\">4.1&nbsp;&nbsp;</span>Pie chart</a></span></li><li><span><a href=\"#Histogram\" data-toc-modified-id=\"Histogram-4.2\"><span class=\"toc-item-num\">4.2&nbsp;&nbsp;</span>Histogram</a></span></li><li><span><a href=\"#Density\" data-toc-modified-id=\"Density-4.3\"><span class=\"toc-item-num\">4.3&nbsp;&nbsp;</span>Density</a></span></li><li><span><a href=\"#Boxplot\" data-toc-modified-id=\"Boxplot-4.4\"><span class=\"toc-item-num\">4.4&nbsp;&nbsp;</span>Boxplot</a></span></li><li><span><a href=\"#Scatterplot\" data-toc-modified-id=\"Scatterplot-4.5\"><span class=\"toc-item-num\">4.5&nbsp;&nbsp;</span>Scatterplot</a></span></li><li><span><a href=\"#Scatter-matrix\" data-toc-modified-id=\"Scatter-matrix-4.6\"><span class=\"toc-item-num\">4.6&nbsp;&nbsp;</span>Scatter matrix</a></span></li></ul></li></ul></div>"
   ]
  },
  {
   "cell_type": "markdown",
   "metadata": {},
   "source": [
    "# Practice plotting different types of graphs in iPython "
   ]
  },
  {
   "cell_type": "markdown",
   "metadata": {},
   "source": [
    "## Introduction\n",
    "In this task, we will continue using the abalone dataset.\n",
    "\n",
    "You will learn how to plot different types of graphs that you have learned this week.\n",
    "\n",
    "For more details, please refer to [pandas plot](https://pandas.pydata.org/pandas-docs/stable/reference/api/pandas.DataFrame.plot.html) and [matplotlib.pyplot](https://matplotlib.org/3.2.1/api/_as_gen/matplotlib.pyplot.plot.html)"
   ]
  },
  {
   "cell_type": "markdown",
   "metadata": {},
   "source": [
    "## Load the dataset and libraries\n",
    "All the plots will use the same dataset `./abalone.csv`"
   ]
  },
  {
   "cell_type": "code",
   "execution_count": null,
   "metadata": {},
   "outputs": [],
   "source": [
    "import pandas as pd\n",
    "import matplotlib.pyplot as plt\n",
    "abalone = pd.read_csv('./abalone.csv')"
   ]
  },
  {
   "cell_type": "markdown",
   "metadata": {},
   "source": [
    "## Your turn"
   ]
  },
  {
   "cell_type": "markdown",
   "metadata": {},
   "source": [
    "### Pie chart"
   ]
  },
  {
   "cell_type": "markdown",
   "metadata": {},
   "source": [
    "Draw the scatter plot between `Rings` and `Diameter`:"
   ]
  },
  {
   "cell_type": "code",
   "execution_count": null,
   "metadata": {},
   "outputs": [],
   "source": [
    "# fill in your code here"
   ]
  },
  {
   "cell_type": "markdown",
   "metadata": {},
   "source": [
    "### Histogram"
   ]
  },
  {
   "cell_type": "markdown",
   "metadata": {},
   "source": [
    "Draw the histogram for `Height`:   "
   ]
  },
  {
   "cell_type": "code",
   "execution_count": null,
   "metadata": {},
   "outputs": [],
   "source": [
    "# fill in your code here"
   ]
  },
  {
   "cell_type": "markdown",
   "metadata": {},
   "source": [
    "### Density"
   ]
  },
  {
   "cell_type": "markdown",
   "metadata": {},
   "source": [
    "Draw the density plot for `Shell weight`:"
   ]
  },
  {
   "cell_type": "code",
   "execution_count": null,
   "metadata": {},
   "outputs": [],
   "source": [
    "# fill in your code here"
   ]
  },
  {
   "cell_type": "markdown",
   "metadata": {},
   "source": [
    "### Boxplot"
   ]
  },
  {
   "cell_type": "markdown",
   "metadata": {},
   "source": [
    "Draw the boxplot for `Whole weight`:"
   ]
  },
  {
   "cell_type": "code",
   "execution_count": null,
   "metadata": {},
   "outputs": [],
   "source": [
    "# fill in your code here"
   ]
  },
  {
   "cell_type": "markdown",
   "metadata": {},
   "source": [
    "Draw the boxplot for `Whole weight` per `Sex` group:"
   ]
  },
  {
   "cell_type": "code",
   "execution_count": null,
   "metadata": {},
   "outputs": [],
   "source": [
    "# fill in your code here"
   ]
  },
  {
   "cell_type": "markdown",
   "metadata": {},
   "source": [
    "### Scatterplot"
   ]
  },
  {
   "cell_type": "markdown",
   "metadata": {},
   "source": [
    "Draw the scatter plot between `Rings` and `Diameter`:"
   ]
  },
  {
   "cell_type": "code",
   "execution_count": null,
   "metadata": {},
   "outputs": [],
   "source": [
    "# fill in your code here"
   ]
  },
  {
   "cell_type": "markdown",
   "metadata": {},
   "source": [
    "### Scatter matrix"
   ]
  },
  {
   "cell_type": "markdown",
   "metadata": {},
   "source": [
    "Draw the Scatter Matrix:"
   ]
  },
  {
   "cell_type": "code",
   "execution_count": null,
   "metadata": {},
   "outputs": [],
   "source": [
    "# fill in your code here"
   ]
  },
  {
   "cell_type": "markdown",
   "metadata": {},
   "source": [
    "## Solution"
   ]
  },
  {
   "cell_type": "markdown",
   "metadata": {},
   "source": [
    "### Pie chart"
   ]
  },
  {
   "cell_type": "markdown",
   "metadata": {},
   "source": [
    "Draw the scatter plot between `Rings` and `Diameter`:"
   ]
  },
  {
   "cell_type": "code",
   "execution_count": null,
   "metadata": {},
   "outputs": [],
   "source": [
    "abalone['Sex']\\\n",
    "    .value_counts()\\\n",
    "    .plot(kind='pie',autopct='%.2f')\n",
    "plt.show()"
   ]
  },
  {
   "cell_type": "markdown",
   "metadata": {},
   "source": [
    "### Histogram"
   ]
  },
  {
   "cell_type": "markdown",
   "metadata": {},
   "source": [
    "Draw the histogram for `Height`:   "
   ]
  },
  {
   "cell_type": "code",
   "execution_count": null,
   "metadata": {},
   "outputs": [],
   "source": [
    "abalone['Height'].plot(kind='hist',bins=20)\n",
    "plt.title('Abalone - Height info')\n",
    "plt.xlabel('Height')\n",
    "plt.grid()\n",
    "plt.show()"
   ]
  },
  {
   "cell_type": "markdown",
   "metadata": {},
   "source": [
    "### Density"
   ]
  },
  {
   "cell_type": "markdown",
   "metadata": {},
   "source": [
    "Draw the density plot for `Shell weight`:"
   ]
  },
  {
   "cell_type": "code",
   "execution_count": null,
   "metadata": {},
   "outputs": [],
   "source": [
    "abalone['Shell weight'].plot(kind='density')\n",
    "plt.title('Abalone - Shell Weight')\n",
    "plt.xlabel('Shell weight')\n",
    "plt.grid()\n",
    "plt.show()"
   ]
  },
  {
   "cell_type": "markdown",
   "metadata": {},
   "source": [
    "### Boxplot"
   ]
  },
  {
   "cell_type": "markdown",
   "metadata": {},
   "source": [
    "Draw the boxplot for `Whole weight`:"
   ]
  },
  {
   "cell_type": "code",
   "execution_count": null,
   "metadata": {},
   "outputs": [],
   "source": [
    "abalone['Whole weight'].plot(kind='box')\n",
    "plt.grid()\n",
    "plt.show()"
   ]
  },
  {
   "cell_type": "markdown",
   "metadata": {},
   "source": [
    "Draw the boxplot for `Whole weight` per `Sex` group:"
   ]
  },
  {
   "cell_type": "code",
   "execution_count": null,
   "metadata": {},
   "outputs": [],
   "source": [
    "abalone.dropna().boxplot(column='Whole weight',by='Sex')\n",
    "plt.show()"
   ]
  },
  {
   "cell_type": "markdown",
   "metadata": {},
   "source": [
    "### Scatterplot"
   ]
  },
  {
   "cell_type": "markdown",
   "metadata": {},
   "source": [
    "Draw the scatter plot between `Rings` and `Diameter`:"
   ]
  },
  {
   "cell_type": "code",
   "execution_count": null,
   "metadata": {},
   "outputs": [],
   "source": [
    "abalone.plot(kind='scatter',x=8,y=2)\n",
    "plt.grid()\n",
    "plt.show()"
   ]
  },
  {
   "cell_type": "markdown",
   "metadata": {},
   "source": [
    "### Scatter matrix"
   ]
  },
  {
   "cell_type": "markdown",
   "metadata": {},
   "source": [
    "Draw the Scatter Matrix:"
   ]
  },
  {
   "cell_type": "code",
   "execution_count": null,
   "metadata": {},
   "outputs": [],
   "source": [
    "from pandas.plotting import scatter_matrix\n",
    "scatter_matrix(abalone,alpha=0.2,figsize=(16,16),diagonal='hist')\n",
    "plt.show()"
   ]
  }
 ],
 "metadata": {
  "kernelspec": {
   "display_name": "Python 3",
   "language": "python",
   "name": "python3"
  },
  "language_info": {
   "codemirror_mode": {
    "name": "ipython",
    "version": 3
   },
   "file_extension": ".py",
   "mimetype": "text/x-python",
   "name": "python",
   "nbconvert_exporter": "python",
   "pygments_lexer": "ipython3",
   "version": "3.7.6"
  },
  "toc": {
   "base_numbering": 1,
   "nav_menu": {},
   "number_sections": true,
   "sideBar": true,
   "skip_h1_title": true,
   "title_cell": "Table of Contents",
   "title_sidebar": "Contents",
   "toc_cell": true,
   "toc_position": {},
   "toc_section_display": true,
   "toc_window_display": true
  }
 },
 "nbformat": 4,
 "nbformat_minor": 4
}
